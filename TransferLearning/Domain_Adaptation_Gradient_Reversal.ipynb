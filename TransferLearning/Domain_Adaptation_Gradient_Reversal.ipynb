{
 "cells": [
  {
   "cell_type": "code",
   "execution_count": 1,
   "metadata": {},
   "outputs": [],
   "source": [
    "import os\n",
    "import sys\n",
    "sys.path.append(os.environ.get(\"FASTAI_PATH\"))"
   ]
  },
  {
   "cell_type": "code",
   "execution_count": 2,
   "metadata": {},
   "outputs": [],
   "source": [
    "from fastai.vision import *\n",
    "from fastai.callbacks import *"
   ]
  },
  {
   "cell_type": "code",
   "execution_count": 3,
   "metadata": {},
   "outputs": [
    {
     "name": "stdout",
     "output_type": "stream",
     "text": [
      "device is cuda\n"
     ]
    }
   ],
   "source": [
    "if torch.cuda.is_available():\n",
    "    device = 'cuda'\n",
    "else:\n",
    "    device = 'cpu'\n",
    "device = torch.device(device)\n",
    "print(\"device is %s\"%device)\n",
    "torch.cuda.set_device(7)"
   ]
  },
  {
   "cell_type": "markdown",
   "metadata": {},
   "source": [
    "### Data Prepare\n",
    "\n",
    "The experiments are carried out on MNIST and MNIST-M datasets. The former dataset can be fetched from `fast ai` by `untar_data(URLs.MNIST)`, the latter is downloaded from this [link](https://github.com/fungtion/DANN)."
   ]
  },
  {
   "cell_type": "code",
   "execution_count": 4,
   "metadata": {},
   "outputs": [],
   "source": [
    "mnist_data_path = untar_data(URLs.MNIST)"
   ]
  },
  {
   "cell_type": "markdown",
   "metadata": {},
   "source": [
    "#### Generate CSV\n",
    "The files in `MNIST` are categrorized by folders, while the files in `MNIST M` by .txt. In order to use the data block API in `fast ai`, we need to refactor the label infomation into a csv file. Each row in this file consists of 3 fields:\n",
    "    \n",
    "    filename class_label domain_label\n",
    "    \n",
    "where domain_label is 0 if file is from `MNIST`, otherwise 1."
   ]
  },
  {
   "cell_type": "code",
   "execution_count": 5,
   "metadata": {},
   "outputs": [],
   "source": [
    "base_path = Path(\"/home/shuozhao/.fastai/data/\")\n",
    "mnist_m_path = Path(\"mnist_m\")"
   ]
  },
  {
   "cell_type": "code",
   "execution_count": 6,
   "metadata": {},
   "outputs": [],
   "source": [
    "def genDFforM(datapath, dataset):\n",
    "    mnist_m_df = pd.read_csv(datapath/f\"mnist_m_{dataset}_labels.txt\", sep=\" \", header=None)\n",
    "    file_col = mnist_m_df[0].values\n",
    "    file_col = [str(mnist_m_path/f\"mnist_m_{dataset}\"/f) for f in file_col]\n",
    "    c_labels = mnist_m_df[1].values\n",
    "    s_labels = np.ones_like(c_labels)\n",
    "    df = pd.DataFrame({\"file\":file_col, \"c_label\": c_labels, \"s_label\": s_labels})\n",
    "    return df"
   ]
  },
  {
   "cell_type": "code",
   "execution_count": 7,
   "metadata": {},
   "outputs": [],
   "source": [
    "m_train_df = genDFforM(base_path/mnist_m_path, \"train\")\n",
    "m_test_df  = genDFforM(base_path/mnist_m_path, \"test\")"
   ]
  },
  {
   "cell_type": "code",
   "execution_count": 8,
   "metadata": {},
   "outputs": [
    {
     "data": {
      "text/html": [
       "<div>\n",
       "<style scoped>\n",
       "    .dataframe tbody tr th:only-of-type {\n",
       "        vertical-align: middle;\n",
       "    }\n",
       "\n",
       "    .dataframe tbody tr th {\n",
       "        vertical-align: top;\n",
       "    }\n",
       "\n",
       "    .dataframe thead th {\n",
       "        text-align: right;\n",
       "    }\n",
       "</style>\n",
       "<table border=\"1\" class=\"dataframe\">\n",
       "  <thead>\n",
       "    <tr style=\"text-align: right;\">\n",
       "      <th></th>\n",
       "      <th>file</th>\n",
       "      <th>c_label</th>\n",
       "      <th>s_label</th>\n",
       "    </tr>\n",
       "  </thead>\n",
       "  <tbody>\n",
       "    <tr>\n",
       "      <th>0</th>\n",
       "      <td>mnist_m/mnist_m_train/00000000.png</td>\n",
       "      <td>5</td>\n",
       "      <td>1</td>\n",
       "    </tr>\n",
       "    <tr>\n",
       "      <th>1</th>\n",
       "      <td>mnist_m/mnist_m_train/00000001.png</td>\n",
       "      <td>0</td>\n",
       "      <td>1</td>\n",
       "    </tr>\n",
       "    <tr>\n",
       "      <th>2</th>\n",
       "      <td>mnist_m/mnist_m_train/00000002.png</td>\n",
       "      <td>4</td>\n",
       "      <td>1</td>\n",
       "    </tr>\n",
       "    <tr>\n",
       "      <th>3</th>\n",
       "      <td>mnist_m/mnist_m_train/00000003.png</td>\n",
       "      <td>1</td>\n",
       "      <td>1</td>\n",
       "    </tr>\n",
       "    <tr>\n",
       "      <th>4</th>\n",
       "      <td>mnist_m/mnist_m_train/00000004.png</td>\n",
       "      <td>9</td>\n",
       "      <td>1</td>\n",
       "    </tr>\n",
       "  </tbody>\n",
       "</table>\n",
       "</div>"
      ],
      "text/plain": [
       "                                 file  c_label  s_label\n",
       "0  mnist_m/mnist_m_train/00000000.png        5        1\n",
       "1  mnist_m/mnist_m_train/00000001.png        0        1\n",
       "2  mnist_m/mnist_m_train/00000002.png        4        1\n",
       "3  mnist_m/mnist_m_train/00000003.png        1        1\n",
       "4  mnist_m/mnist_m_train/00000004.png        9        1"
      ]
     },
     "execution_count": 8,
     "metadata": {},
     "output_type": "execute_result"
    }
   ],
   "source": [
    "m_train_df.head()"
   ]
  },
  {
   "cell_type": "code",
   "execution_count": 9,
   "metadata": {},
   "outputs": [
    {
     "data": {
      "text/plain": [
       "1    6640\n",
       "7    6158\n",
       "3    6028\n",
       "2    5853\n",
       "9    5851\n",
       "0    5825\n",
       "6    5812\n",
       "8    5757\n",
       "4    5746\n",
       "5    5331\n",
       "Name: c_label, dtype: int64"
      ]
     },
     "execution_count": 9,
     "metadata": {},
     "output_type": "execute_result"
    }
   ],
   "source": [
    "m_train_df[\"c_label\"].value_counts()"
   ]
  },
  {
   "cell_type": "code",
   "execution_count": 10,
   "metadata": {},
   "outputs": [
    {
     "data": {
      "text/plain": [
       "pandas.core.series.Series"
      ]
     },
     "execution_count": 10,
     "metadata": {},
     "output_type": "execute_result"
    }
   ],
   "source": [
    "type(m_test_df.c_label)"
   ]
  },
  {
   "cell_type": "code",
   "execution_count": 11,
   "metadata": {},
   "outputs": [
    {
     "data": {
      "text/plain": [
       "1    1016\n",
       "2     933\n",
       "9     919\n",
       "7     914\n",
       "3     908\n",
       "4     890\n",
       "8     880\n",
       "0     878\n",
       "6     856\n",
       "5     807\n",
       "Name: c_label, dtype: int64"
      ]
     },
     "execution_count": 11,
     "metadata": {},
     "output_type": "execute_result"
    }
   ],
   "source": [
    "m_test_df.c_label.value_counts()"
   ]
  },
  {
   "cell_type": "code",
   "execution_count": 12,
   "metadata": {},
   "outputs": [],
   "source": [
    "mnist_path = Path(\"mnist_png\")"
   ]
  },
  {
   "cell_type": "code",
   "execution_count": 13,
   "metadata": {},
   "outputs": [],
   "source": [
    "def genDFforB(datapath, dataset):\n",
    "    files = (datapath/dataset).rglob(\"*.png\")\n",
    "    file_names = [str(f.relative_to(base_path)) for f in files]\n",
    "    c_labels = [int(f.split(\"/\")[2]) for f in file_names]\n",
    "    s_labels = np.zeros_like(c_labels)\n",
    "    return DataFrame({\"file\":file_names, \"c_label\": c_labels, \"s_label\": s_labels})"
   ]
  },
  {
   "cell_type": "code",
   "execution_count": 14,
   "metadata": {},
   "outputs": [],
   "source": [
    "b_train_df = genDFforB(base_path/mnist_path, \"training\")\n",
    "b_test_df = genDFforB(base_path/mnist_path, \"testing\")"
   ]
  },
  {
   "cell_type": "code",
   "execution_count": 15,
   "metadata": {},
   "outputs": [
    {
     "data": {
      "text/plain": [
       "1    6742\n",
       "7    6265\n",
       "3    6131\n",
       "2    5958\n",
       "9    5949\n",
       "0    5923\n",
       "6    5918\n",
       "8    5851\n",
       "4    5842\n",
       "5    5421\n",
       "Name: c_label, dtype: int64"
      ]
     },
     "execution_count": 15,
     "metadata": {},
     "output_type": "execute_result"
    }
   ],
   "source": [
    "b_train_df[\"c_label\"].value_counts()"
   ]
  },
  {
   "cell_type": "code",
   "execution_count": 16,
   "metadata": {},
   "outputs": [
    {
     "data": {
      "text/plain": [
       "1    1135\n",
       "2    1032\n",
       "7    1028\n",
       "3    1010\n",
       "9    1009\n",
       "4     982\n",
       "0     980\n",
       "8     974\n",
       "6     958\n",
       "5     892\n",
       "Name: c_label, dtype: int64"
      ]
     },
     "execution_count": 16,
     "metadata": {},
     "output_type": "execute_result"
    }
   ],
   "source": [
    "b_test_df[\"c_label\"].value_counts()"
   ]
  },
  {
   "cell_type": "code",
   "execution_count": 17,
   "metadata": {},
   "outputs": [
    {
     "data": {
      "text/html": [
       "<div>\n",
       "<style scoped>\n",
       "    .dataframe tbody tr th:only-of-type {\n",
       "        vertical-align: middle;\n",
       "    }\n",
       "\n",
       "    .dataframe tbody tr th {\n",
       "        vertical-align: top;\n",
       "    }\n",
       "\n",
       "    .dataframe thead th {\n",
       "        text-align: right;\n",
       "    }\n",
       "</style>\n",
       "<table border=\"1\" class=\"dataframe\">\n",
       "  <thead>\n",
       "    <tr style=\"text-align: right;\">\n",
       "      <th></th>\n",
       "      <th>file</th>\n",
       "      <th>c_label</th>\n",
       "      <th>s_label</th>\n",
       "    </tr>\n",
       "  </thead>\n",
       "  <tbody>\n",
       "    <tr>\n",
       "      <th>0</th>\n",
       "      <td>mnist_png/training/9/12884.png</td>\n",
       "      <td>9</td>\n",
       "      <td>0</td>\n",
       "    </tr>\n",
       "    <tr>\n",
       "      <th>1</th>\n",
       "      <td>mnist_png/training/9/40297.png</td>\n",
       "      <td>9</td>\n",
       "      <td>0</td>\n",
       "    </tr>\n",
       "    <tr>\n",
       "      <th>2</th>\n",
       "      <td>mnist_png/training/9/55247.png</td>\n",
       "      <td>9</td>\n",
       "      <td>0</td>\n",
       "    </tr>\n",
       "    <tr>\n",
       "      <th>3</th>\n",
       "      <td>mnist_png/training/9/364.png</td>\n",
       "      <td>9</td>\n",
       "      <td>0</td>\n",
       "    </tr>\n",
       "    <tr>\n",
       "      <th>4</th>\n",
       "      <td>mnist_png/training/9/15244.png</td>\n",
       "      <td>9</td>\n",
       "      <td>0</td>\n",
       "    </tr>\n",
       "  </tbody>\n",
       "</table>\n",
       "</div>"
      ],
      "text/plain": [
       "                             file  c_label  s_label\n",
       "0  mnist_png/training/9/12884.png        9        0\n",
       "1  mnist_png/training/9/40297.png        9        0\n",
       "2  mnist_png/training/9/55247.png        9        0\n",
       "3    mnist_png/training/9/364.png        9        0\n",
       "4  mnist_png/training/9/15244.png        9        0"
      ]
     },
     "execution_count": 17,
     "metadata": {},
     "output_type": "execute_result"
    }
   ],
   "source": [
    "b_train_df.head()"
   ]
  },
  {
   "cell_type": "code",
   "execution_count": 18,
   "metadata": {},
   "outputs": [],
   "source": [
    "train_df = pd.concat([m_train_df, b_train_df])\n",
    "test_df = pd.concat([m_test_df, b_test_df])\n",
    "train_df.to_csv(base_path/\"DA_mnist_train.csv\", index=False)\n",
    "test_df.to_csv(base_path/\"DA_mnist_test.csv\", index=False)"
   ]
  },
  {
   "cell_type": "code",
   "execution_count": 19,
   "metadata": {},
   "outputs": [],
   "source": [
    "m_train_df.to_csv(base_path/\"target_mnist_train.csv\", index=False)\n",
    "m_test_df.to_csv(base_path/\"target_mnist_test.csv\", index=False)\n",
    "b_test_df.to_csv(base_path/\"source_mnist_test.csv\", index=False)\n",
    "b_train_df.to_csv(base_path/\"source_mnist_train.csv\", index=False)"
   ]
  },
  {
   "cell_type": "code",
   "execution_count": 20,
   "metadata": {},
   "outputs": [
    {
     "data": {
      "text/plain": [
       "(19001, 3)"
      ]
     },
     "execution_count": 20,
     "metadata": {},
     "output_type": "execute_result"
    }
   ],
   "source": [
    "test_df.shape"
   ]
  },
  {
   "cell_type": "markdown",
   "metadata": {},
   "source": [
    "### Model Definition\n",
    "Gradient Reversal Layer: this is borrowed from this [repo](https://github.com/KeiraZhao/MDAN/blob/master/model.py). It seems taking negatives on grad_output inplace by `grad_output.clone()` also works."
   ]
  },
  {
   "cell_type": "code",
   "execution_count": 21,
   "metadata": {},
   "outputs": [],
   "source": [
    "class GradientReversalLayer(torch.autograd.Function):\n",
    "    \"\"\"\n",
    "    Implement the gradient reversal layer for the convenience of domain adaptation neural network.\n",
    "    The forward part is the identity function while the backward part is the negative function.\n",
    "    \"\"\"\n",
    "    def forward(self, inputs):\n",
    "        return inputs\n",
    "\n",
    "    def backward(self, grad_output):\n",
    "#         output = grad_output.neg()\n",
    "        grad_input = grad_output.clone()\n",
    "        output = -grad_input\n",
    "        return output"
   ]
  },
  {
   "cell_type": "code",
   "execution_count": 22,
   "metadata": {},
   "outputs": [],
   "source": [
    "img_size=32\n",
    "batch_size = 512\n",
    "n_class = 10\n",
    "n_body = 1024"
   ]
  },
  {
   "cell_type": "code",
   "execution_count": 23,
   "metadata": {},
   "outputs": [],
   "source": [
    "data = (\n",
    "    ImageList.from_csv(path=base_path, csv_name=\"DA_mnist_train.csv\")\n",
    "    .split_by_rand_pct(0.2)\n",
    "    .label_from_df(cols=[1,2], label_cls=FloatList)\n",
    "    .transform(size=img_size)\n",
    "    .databunch(bs=batch_size)\n",
    "    .normalize(imagenet_stats)\n",
    ")"
   ]
  },
  {
   "cell_type": "code",
   "execution_count": 24,
   "metadata": {},
   "outputs": [],
   "source": [
    "class CustomHead(torch.nn.Module):\n",
    "    def __init__(self, n_class=10):\n",
    "        super(CustomHead, self).__init__()\n",
    "        self.pool = AdaptiveConcatPool2d()\n",
    "        self.flat = Flatten()\n",
    "        \n",
    "        n_hidden = 512\n",
    "        self.c_classifer = nn.Sequential(\n",
    "            nn.BatchNorm1d(num_features=1024),\n",
    "            nn.Dropout(p=0.25),\n",
    "            nn.Linear(n_body, n_hidden),\n",
    "            nn.ReLU(inplace=True),\n",
    "            \n",
    "            nn.BatchNorm1d(num_features=n_hidden),\n",
    "            nn.Dropout(p=0.5),\n",
    "            nn.Linear(n_hidden, n_class)\n",
    "        )\n",
    "        \n",
    "        self.GRL = GradientReversalLayer()\n",
    "        self.s_classifer = nn.Sequential(\n",
    "            nn.BatchNorm1d(num_features=1024),\n",
    "            nn.Dropout(p=0.25),\n",
    "            nn.Linear(n_body, n_hidden),\n",
    "            nn.ReLU(inplace=True),\n",
    "            \n",
    "            nn.BatchNorm1d(num_features=n_hidden),\n",
    "            nn.Dropout(p=0.5),\n",
    "            nn.Linear(n_hidden, 1)\n",
    "        )\n",
    "    \n",
    "    def forward(self, x):\n",
    "        x = self.pool(x)\n",
    "        x = self.flat(x)\n",
    "        c_score = self.c_classifer(x)\n",
    "        s_score = self.s_classifer(self.GRL(x))\n",
    "        return torch.cat([c_score, s_score], dim=1)\n",
    "#         return [c_score, s_score]"
   ]
  },
  {
   "cell_type": "code",
   "execution_count": 25,
   "metadata": {},
   "outputs": [],
   "source": [
    "class CusCE(nn.Module):\n",
    "    def __init__(self, n_class=10):\n",
    "        super().__init__()\n",
    "#         self.cl = nn.BCEWithLogitsLoss(pos_weight=self.pos_weight).to(device)\n",
    "        self.cl = nn.CrossEntropyLoss().to(device)\n",
    "#         self.cl = nn.BCEWithLogitsLoss().to(device)\n",
    "        self.sl = nn.BCEWithLogitsLoss().to(device)\n",
    "        self.n_class = n_class\n",
    "        \n",
    "\n",
    "    def forward(self, inputs, targets, **kwargs):\n",
    "        c_score, s_score = inputs[:,:self.n_class], inputs[:,-1]\n",
    "        c_targets = targets[:,0].long()\n",
    "        s_targets = targets[:,1]\n",
    "        loss = self.cl(c_score, c_targets) + self.sl(s_score, s_targets)\n",
    "        return loss"
   ]
  },
  {
   "cell_type": "code",
   "execution_count": 26,
   "metadata": {},
   "outputs": [],
   "source": [
    "def c_accuracy_helper(source_domain=0):\n",
    "    names = [\"source_c_accuracy\", \"target_c_accuracy\"]\n",
    "    def c_accuracy(inputs, targets):\n",
    "        input_c = inputs[:, :n_class] #.flatten()\n",
    "        x = torch.argmax(input_c,dim=1)\n",
    "        targets = targets.long()\n",
    "        target_c = targets[:, 0]\n",
    "        target_c = target_c[targets[:,1]==source_domain]\n",
    "        x = x[targets[:,1]==source_domain]\n",
    "        return (x==target_c).float().mean()\n",
    "    c_accuracy.__name__ = names[source_domain]\n",
    "    return c_accuracy\n",
    "\n",
    "def s_accuracy(input, targets):\n",
    "    input_s = input[:,-1] #.flatten()\n",
    "#     x = torch.argmax(input_s)\n",
    "    x = input_s.clone().squeeze()\n",
    "    x[x>0] = 1\n",
    "    x[x<0] = 0\n",
    "    target_s = targets[:, 1].long()\n",
    "    return (x.long()==target_s).float().mean()"
   ]
  },
  {
   "cell_type": "code",
   "execution_count": 27,
   "metadata": {},
   "outputs": [],
   "source": [
    "source_c_accuracy = c_accuracy_helper(source_domain=0)\n",
    "target_c_accuracy = c_accuracy_helper(source_domain=1)"
   ]
  },
  {
   "cell_type": "markdown",
   "metadata": {},
   "source": [
    "If use partial to define the monitoring metrics, it is unable to change the names of metric functions."
   ]
  },
  {
   "cell_type": "code",
   "execution_count": 28,
   "metadata": {},
   "outputs": [],
   "source": [
    "# from functools import partial\n",
    "# def c_accuracy(input, targets, source_domain=0):\n",
    "#     input_c = input[0] #.flatten()\n",
    "#     x = torch.argmax(input_c, dim=1)\n",
    "#     targets = targets.long()\n",
    "#     target_c = targets[:, 0]\n",
    "#     target_c = target_c[targets[:,1]==source_domain]\n",
    "#     x = x[targets[:,1]==source_domain]\n",
    "#     return (x==target_c).float().mean()\n",
    "\n",
    "# source_c_accuracy = partial(c_accuracy,source_domain=0)\n",
    "# target_c_accuracy = partial(c_accuracy,source_domain=1)"
   ]
  },
  {
   "cell_type": "code",
   "execution_count": 29,
   "metadata": {},
   "outputs": [],
   "source": [
    "learn = cnn_learner(data, models.resnet34, pretrained=True, custom_head=CustomHead(), \n",
    "                    metrics=[source_c_accuracy, target_c_accuracy, s_accuracy], loss_func=CusCE())"
   ]
  },
  {
   "cell_type": "code",
   "execution_count": 30,
   "metadata": {},
   "outputs": [],
   "source": [
    "learn.unfreeze()"
   ]
  },
  {
   "cell_type": "code",
   "execution_count": 31,
   "metadata": {},
   "outputs": [
    {
     "data": {
      "text/plain": [
       "'source_c_accuracy'"
      ]
     },
     "execution_count": 31,
     "metadata": {},
     "output_type": "execute_result"
    }
   ],
   "source": [
    "source_c_accuracy.__name__"
   ]
  },
  {
   "cell_type": "code",
   "execution_count": 32,
   "metadata": {},
   "outputs": [
    {
     "data": {
      "text/html": [
       "\n",
       "    <div>\n",
       "        <style>\n",
       "            /* Turns off some styling */\n",
       "            progress {\n",
       "                /* gets rid of default border in Firefox and Opera. */\n",
       "                border: none;\n",
       "                /* Needs to be in here for Safari polyfill so background images work as expected. */\n",
       "                background-size: auto;\n",
       "            }\n",
       "            .progress-bar-interrupted, .progress-bar-interrupted::-webkit-progress-bar {\n",
       "                background: #F44336;\n",
       "            }\n",
       "        </style>\n",
       "      <progress value='0' class='' max='1', style='width:300px; height:20px; vertical-align: middle;'></progress>\n",
       "      0.00% [0/1 00:00<00:00]\n",
       "    </div>\n",
       "    \n",
       "<table border=\"1\" class=\"dataframe\">\n",
       "  <thead>\n",
       "    <tr style=\"text-align: left;\">\n",
       "      <th>epoch</th>\n",
       "      <th>train_loss</th>\n",
       "      <th>valid_loss</th>\n",
       "      <th>source_c_accuracy</th>\n",
       "      <th>target_c_accuracy</th>\n",
       "      <th>s_accuracy</th>\n",
       "      <th>time</th>\n",
       "    </tr>\n",
       "  </thead>\n",
       "  <tbody>\n",
       "  </tbody>\n",
       "</table><p>\n",
       "\n",
       "    <div>\n",
       "        <style>\n",
       "            /* Turns off some styling */\n",
       "            progress {\n",
       "                /* gets rid of default border in Firefox and Opera. */\n",
       "                border: none;\n",
       "                /* Needs to be in here for Safari polyfill so background images work as expected. */\n",
       "                background-size: auto;\n",
       "            }\n",
       "            .progress-bar-interrupted, .progress-bar-interrupted::-webkit-progress-bar {\n",
       "                background: #F44336;\n",
       "            }\n",
       "        </style>\n",
       "      <progress value='87' class='' max='185', style='width:300px; height:20px; vertical-align: middle;'></progress>\n",
       "      47.03% [87/185 00:10<00:12 6.0639]\n",
       "    </div>\n",
       "    "
      ],
      "text/plain": [
       "<IPython.core.display.HTML object>"
      ]
     },
     "metadata": {},
     "output_type": "display_data"
    },
    {
     "name": "stdout",
     "output_type": "stream",
     "text": [
      "LR Finder is complete, type {learner_name}.recorder.plot() to see the graph.\n"
     ]
    }
   ],
   "source": [
    "learn.lr_find()"
   ]
  },
  {
   "cell_type": "code",
   "execution_count": 33,
   "metadata": {},
   "outputs": [
    {
     "name": "stdout",
     "output_type": "stream",
     "text": [
      "Min numerical gradient: 1.45E-03\n",
      "Min loss divided by 10: 1.74E-02\n"
     ]
    },
    {
     "data": {
      "image/png": "[encoded data removed]",
      "text/plain": [
       "<Figure size 432x288 with 1 Axes>"
      ]
     },
     "metadata": {
      "needs_background": "light"
     },
     "output_type": "display_data"
    }
   ],
   "source": [
    "learn.recorder.plot(suggestion=True)"
   ]
  },
  {
   "cell_type": "code",
   "execution_count": 34,
   "metadata": {},
   "outputs": [
    {
     "data": {
      "text/html": [
       "<table border=\"1\" class=\"dataframe\">\n",
       "  <thead>\n",
       "    <tr style=\"text-align: left;\">\n",
       "      <th>epoch</th>\n",
       "      <th>train_loss</th>\n",
       "      <th>valid_loss</th>\n",
       "      <th>source_c_accuracy</th>\n",
       "      <th>target_c_accuracy</th>\n",
       "      <th>s_accuracy</th>\n",
       "      <th>time</th>\n",
       "    </tr>\n",
       "  </thead>\n",
       "  <tbody>\n",
       "    <tr>\n",
       "      <td>0</td>\n",
       "      <td>0.666132</td>\n",
       "      <td>0.656193</td>\n",
       "      <td>0.983607</td>\n",
       "      <td>0.920114</td>\n",
       "      <td>0.777857</td>\n",
       "      <td>00:21</td>\n",
       "    </tr>\n",
       "    <tr>\n",
       "      <td>1</td>\n",
       "      <td>0.807568</td>\n",
       "      <td>0.807498</td>\n",
       "      <td>0.985414</td>\n",
       "      <td>0.930999</td>\n",
       "      <td>0.635714</td>\n",
       "      <td>00:21</td>\n",
       "    </tr>\n",
       "    <tr>\n",
       "      <td>2</td>\n",
       "      <td>0.800937</td>\n",
       "      <td>0.839161</td>\n",
       "      <td>0.979623</td>\n",
       "      <td>0.936126</td>\n",
       "      <td>0.578781</td>\n",
       "      <td>00:21</td>\n",
       "    </tr>\n",
       "    <tr>\n",
       "      <td>3</td>\n",
       "      <td>0.786121</td>\n",
       "      <td>0.827562</td>\n",
       "      <td>0.980334</td>\n",
       "      <td>0.942588</td>\n",
       "      <td>0.598151</td>\n",
       "      <td>00:21</td>\n",
       "    </tr>\n",
       "    <tr>\n",
       "      <td>4</td>\n",
       "      <td>0.773440</td>\n",
       "      <td>0.793700</td>\n",
       "      <td>0.986994</td>\n",
       "      <td>0.949311</td>\n",
       "      <td>0.582269</td>\n",
       "      <td>00:21</td>\n",
       "    </tr>\n",
       "    <tr>\n",
       "      <td>5</td>\n",
       "      <td>0.762014</td>\n",
       "      <td>0.811720</td>\n",
       "      <td>0.984455</td>\n",
       "      <td>0.944797</td>\n",
       "      <td>0.562437</td>\n",
       "      <td>00:21</td>\n",
       "    </tr>\n",
       "    <tr>\n",
       "      <td>6</td>\n",
       "      <td>0.739741</td>\n",
       "      <td>0.788913</td>\n",
       "      <td>0.985680</td>\n",
       "      <td>0.950882</td>\n",
       "      <td>0.577143</td>\n",
       "      <td>00:21</td>\n",
       "    </tr>\n",
       "    <tr>\n",
       "      <td>7</td>\n",
       "      <td>0.740135</td>\n",
       "      <td>0.776357</td>\n",
       "      <td>0.988911</td>\n",
       "      <td>0.947578</td>\n",
       "      <td>0.596975</td>\n",
       "      <td>00:21</td>\n",
       "    </tr>\n",
       "    <tr>\n",
       "      <td>8</td>\n",
       "      <td>0.729308</td>\n",
       "      <td>0.749384</td>\n",
       "      <td>0.991309</td>\n",
       "      <td>0.962474</td>\n",
       "      <td>0.584622</td>\n",
       "      <td>00:21</td>\n",
       "    </tr>\n",
       "    <tr>\n",
       "      <td>9</td>\n",
       "      <td>0.716868</td>\n",
       "      <td>0.763590</td>\n",
       "      <td>0.990622</td>\n",
       "      <td>0.960849</td>\n",
       "      <td>0.586134</td>\n",
       "      <td>00:21</td>\n",
       "    </tr>\n",
       "    <tr>\n",
       "      <td>10</td>\n",
       "      <td>0.707705</td>\n",
       "      <td>0.743090</td>\n",
       "      <td>0.992694</td>\n",
       "      <td>0.964367</td>\n",
       "      <td>0.592731</td>\n",
       "      <td>00:21</td>\n",
       "    </tr>\n",
       "    <tr>\n",
       "      <td>11</td>\n",
       "      <td>0.702746</td>\n",
       "      <td>0.745662</td>\n",
       "      <td>0.993427</td>\n",
       "      <td>0.967771</td>\n",
       "      <td>0.573403</td>\n",
       "      <td>00:21</td>\n",
       "    </tr>\n",
       "    <tr>\n",
       "      <td>12</td>\n",
       "      <td>0.691160</td>\n",
       "      <td>0.725141</td>\n",
       "      <td>0.993872</td>\n",
       "      <td>0.968330</td>\n",
       "      <td>0.622815</td>\n",
       "      <td>00:21</td>\n",
       "    </tr>\n",
       "    <tr>\n",
       "      <td>13</td>\n",
       "      <td>0.688310</td>\n",
       "      <td>0.721973</td>\n",
       "      <td>0.994823</td>\n",
       "      <td>0.972595</td>\n",
       "      <td>0.615294</td>\n",
       "      <td>00:20</td>\n",
       "    </tr>\n",
       "    <tr>\n",
       "      <td>14</td>\n",
       "      <td>0.686410</td>\n",
       "      <td>0.727403</td>\n",
       "      <td>0.994345</td>\n",
       "      <td>0.972904</td>\n",
       "      <td>0.611849</td>\n",
       "      <td>00:21</td>\n",
       "    </tr>\n",
       "    <tr>\n",
       "      <td>15</td>\n",
       "      <td>0.680358</td>\n",
       "      <td>0.731787</td>\n",
       "      <td>0.995106</td>\n",
       "      <td>0.973410</td>\n",
       "      <td>0.605924</td>\n",
       "      <td>00:21</td>\n",
       "    </tr>\n",
       "    <tr>\n",
       "      <td>16</td>\n",
       "      <td>0.682227</td>\n",
       "      <td>0.742976</td>\n",
       "      <td>0.994776</td>\n",
       "      <td>0.974577</td>\n",
       "      <td>0.596092</td>\n",
       "      <td>00:21</td>\n",
       "    </tr>\n",
       "    <tr>\n",
       "      <td>17</td>\n",
       "      <td>0.682756</td>\n",
       "      <td>0.743826</td>\n",
       "      <td>0.994922</td>\n",
       "      <td>0.977323</td>\n",
       "      <td>0.596429</td>\n",
       "      <td>00:20</td>\n",
       "    </tr>\n",
       "    <tr>\n",
       "      <td>18</td>\n",
       "      <td>0.683095</td>\n",
       "      <td>0.745452</td>\n",
       "      <td>0.995096</td>\n",
       "      <td>0.976622</td>\n",
       "      <td>0.594874</td>\n",
       "      <td>00:21</td>\n",
       "    </tr>\n",
       "    <tr>\n",
       "      <td>19</td>\n",
       "      <td>0.683715</td>\n",
       "      <td>0.744439</td>\n",
       "      <td>0.995336</td>\n",
       "      <td>0.977304</td>\n",
       "      <td>0.591975</td>\n",
       "      <td>00:21</td>\n",
       "    </tr>\n",
       "  </tbody>\n",
       "</table>"
      ],
      "text/plain": [
       "<IPython.core.display.HTML object>"
      ]
     },
     "metadata": {},
     "output_type": "display_data"
    }
   ],
   "source": [
    "learn.fit_one_cycle(20, max_lr=1E-2)"
   ]
  },
  {
   "cell_type": "code",
   "execution_count": 35,
   "metadata": {},
   "outputs": [],
   "source": [
    "data_test = (\n",
    "    ImageList.from_csv(path=base_path, csv_name=\"DA_mnist_test.csv\")\n",
    "    .split_none()\n",
    "    .label_from_df(cols=[1,2], label_cls=FloatList)\n",
    "    .transform(size=img_size)\n",
    "    .databunch(bs=batch_size)\n",
    "    .normalize(imagenet_stats)\n",
    ")"
   ]
  },
  {
   "cell_type": "code",
   "execution_count": 36,
   "metadata": {},
   "outputs": [],
   "source": [
    "learn.data = data_test"
   ]
  },
  {
   "cell_type": "code",
   "execution_count": 37,
   "metadata": {},
   "outputs": [
    {
     "data": {
      "text/plain": [
       "ImageDataBunch;\n",
       "\n",
       "Train: LabelList (19001 items)\n",
       "x: ImageList\n",
       "Image (3, 32, 32),Image (3, 32, 32),Image (3, 32, 32),Image (3, 32, 32),Image (3, 32, 32)\n",
       "y: FloatList\n",
       "[7. 1.],[2. 1.],[1. 1.],[0. 1.],[4. 1.]\n",
       "Path: /home/shuozhao/.fastai/data;\n",
       "\n",
       "Valid: LabelList (0 items)\n",
       "x: ImageList\n",
       "\n",
       "y: FloatList\n",
       "\n",
       "Path: /home/shuozhao/.fastai/data;\n",
       "\n",
       "Test: None"
      ]
     },
     "execution_count": 37,
     "metadata": {},
     "output_type": "execute_result"
    }
   ],
   "source": [
    "data_test"
   ]
  },
  {
   "cell_type": "code",
   "execution_count": 38,
   "metadata": {},
   "outputs": [
    {
     "data": {
      "text/html": [],
      "text/plain": [
       "<IPython.core.display.HTML object>"
      ]
     },
     "metadata": {},
     "output_type": "display_data"
    }
   ],
   "source": [
    "res = learn.get_preds(DatasetType.Train)"
   ]
  },
  {
   "cell_type": "code",
   "execution_count": 39,
   "metadata": {},
   "outputs": [],
   "source": [
    "def show_result(y_preds, labels):\n",
    "    \n",
    "    c_labels = labels[:,0].clone().numpy().astype(np.int)\n",
    "    s_labels = labels[:,1].clone().numpy().astype(np.int)\n",
    "    \n",
    "    c_scores, s_scores = y_preds[:,:n_class].numpy(), y_preds[:,-1].numpy()\n",
    "    c_preds = np.argmax(c_scores, axis=1)\n",
    "    s_scores[s_scores>0] = 1\n",
    "    s_scores[s_scores<=0] = 0\n",
    "    s_preds = s_scores.astype(np.int)\n",
    "    \n",
    "    \n",
    "    print(\"For classification: %d out of %d are correctly classified\"%((c_preds==c_labels).sum(), len(c_labels)))\n",
    "    print(\"For data source: %d out of %d are correctly recognized\"%((s_preds==s_labels).sum(),len(s_labels)))\n",
    "    \n",
    "    source_c_labels = c_labels[s_labels==0]\n",
    "    target_c_labels = c_labels[s_labels==1]\n",
    "    \n",
    "    source_c_preds = c_preds[s_labels==0]\n",
    "    target_c_preds = c_preds[s_labels==1]\n",
    "    \n",
    "    source_right_no = (source_c_labels==source_c_preds).sum()\n",
    "    target_right_no = (target_c_labels==target_c_preds).sum()\n",
    "    \n",
    "    source_c_acc = source_right_no/len(source_c_labels)\n",
    "    target_c_acc = target_right_no/len(target_c_labels)\n",
    "    print(\"For source data: %d out of %d (Acc %.4f) are correctly classified\" \\\n",
    "              %(source_right_no, len(source_c_labels), source_c_acc))\n",
    "    print(\"For target data: %d out of %d (Acc %.4f) are correctly classified\" \\\n",
    "              %(target_right_no, len(target_c_labels), target_c_acc))"
   ]
  },
  {
   "cell_type": "code",
   "execution_count": 40,
   "metadata": {},
   "outputs": [
    {
     "name": "stdout",
     "output_type": "stream",
     "text": [
      "For classification: 18691 out of 18944 are correctly classified\n",
      "For data source: 11297 out of 18944 are correctly recognized\n",
      "For source data: 9926 out of 9975 (Acc 0.9951) are correctly classified\n",
      "For target data: 8765 out of 8969 (Acc 0.9773) are correctly classified\n"
     ]
    }
   ],
   "source": [
    "show_result(res[0], res[1])"
   ]
  },
  {
   "cell_type": "markdown",
   "metadata": {},
   "source": [
    "### Baseline: Training on MNIST, Inference on MNIST-M"
   ]
  },
  {
   "cell_type": "code",
   "execution_count": 41,
   "metadata": {},
   "outputs": [],
   "source": [
    "data = (\n",
    "    ImageList.from_csv(path=base_path, csv_name=\"source_mnist_train.csv\")\n",
    "    .split_by_rand_pct(0.2)\n",
    "    .label_from_df()\n",
    "    .transform(size=img_size)\n",
    "    .databunch(bs=batch_size)\n",
    "    .normalize(imagenet_stats)\n",
    ")"
   ]
  },
  {
   "cell_type": "code",
   "execution_count": 42,
   "metadata": {},
   "outputs": [],
   "source": [
    "best_model_pth = \"mnist_resnet34\"\n",
    "learn = cnn_learner(data, models.resnet34, pretrained=True, metrics=accuracy)"
   ]
  },
  {
   "cell_type": "code",
   "execution_count": 43,
   "metadata": {},
   "outputs": [
    {
     "data": {
      "text/html": [
       "<table border=\"1\" class=\"dataframe\">\n",
       "  <thead>\n",
       "    <tr style=\"text-align: left;\">\n",
       "      <th>epoch</th>\n",
       "      <th>train_loss</th>\n",
       "      <th>valid_loss</th>\n",
       "      <th>accuracy</th>\n",
       "      <th>time</th>\n",
       "    </tr>\n",
       "  </thead>\n",
       "  <tbody>\n",
       "    <tr>\n",
       "      <td>0</td>\n",
       "      <td>0.213130</td>\n",
       "      <td>0.697619</td>\n",
       "      <td>0.817167</td>\n",
       "      <td>00:09</td>\n",
       "    </tr>\n",
       "    <tr>\n",
       "      <td>1</td>\n",
       "      <td>0.089176</td>\n",
       "      <td>0.085032</td>\n",
       "      <td>0.976000</td>\n",
       "      <td>00:09</td>\n",
       "    </tr>\n",
       "    <tr>\n",
       "      <td>2</td>\n",
       "      <td>0.043496</td>\n",
       "      <td>0.030660</td>\n",
       "      <td>0.992167</td>\n",
       "      <td>00:09</td>\n",
       "    </tr>\n",
       "  </tbody>\n",
       "</table>"
      ],
      "text/plain": [
       "<IPython.core.display.HTML object>"
      ]
     },
     "metadata": {},
     "output_type": "display_data"
    }
   ],
   "source": [
    "learn.fit_one_cycle(3, 5E-2)"
   ]
  },
  {
   "cell_type": "code",
   "execution_count": 44,
   "metadata": {},
   "outputs": [
    {
     "data": {
      "text/html": [
       "\n",
       "    <div>\n",
       "        <style>\n",
       "            /* Turns off some styling */\n",
       "            progress {\n",
       "                /* gets rid of default border in Firefox and Opera. */\n",
       "                border: none;\n",
       "                /* Needs to be in here for Safari polyfill so background images work as expected. */\n",
       "                background-size: auto;\n",
       "            }\n",
       "            .progress-bar-interrupted, .progress-bar-interrupted::-webkit-progress-bar {\n",
       "                background: #F44336;\n",
       "            }\n",
       "        </style>\n",
       "      <progress value='6' class='' max='20', style='width:300px; height:20px; vertical-align: middle;'></progress>\n",
       "      30.00% [6/20 01:10<02:44]\n",
       "    </div>\n",
       "    \n",
       "<table border=\"1\" class=\"dataframe\">\n",
       "  <thead>\n",
       "    <tr style=\"text-align: left;\">\n",
       "      <th>epoch</th>\n",
       "      <th>train_loss</th>\n",
       "      <th>valid_loss</th>\n",
       "      <th>accuracy</th>\n",
       "      <th>time</th>\n",
       "    </tr>\n",
       "  </thead>\n",
       "  <tbody>\n",
       "    <tr>\n",
       "      <td>0</td>\n",
       "      <td>0.021127</td>\n",
       "      <td>0.029087</td>\n",
       "      <td>0.992583</td>\n",
       "      <td>00:11</td>\n",
       "    </tr>\n",
       "    <tr>\n",
       "      <td>1</td>\n",
       "      <td>0.020451</td>\n",
       "      <td>0.028018</td>\n",
       "      <td>0.992667</td>\n",
       "      <td>00:11</td>\n",
       "    </tr>\n",
       "    <tr>\n",
       "      <td>2</td>\n",
       "      <td>0.020521</td>\n",
       "      <td>0.030040</td>\n",
       "      <td>0.992250</td>\n",
       "      <td>00:11</td>\n",
       "    </tr>\n",
       "    <tr>\n",
       "      <td>3</td>\n",
       "      <td>0.018643</td>\n",
       "      <td>0.033881</td>\n",
       "      <td>0.991250</td>\n",
       "      <td>00:11</td>\n",
       "    </tr>\n",
       "    <tr>\n",
       "      <td>4</td>\n",
       "      <td>0.018835</td>\n",
       "      <td>0.037619</td>\n",
       "      <td>0.991167</td>\n",
       "      <td>00:11</td>\n",
       "    </tr>\n",
       "    <tr>\n",
       "      <td>5</td>\n",
       "      <td>0.015390</td>\n",
       "      <td>0.032875</td>\n",
       "      <td>0.991500</td>\n",
       "      <td>00:11</td>\n",
       "    </tr>\n",
       "  </tbody>\n",
       "</table><p>\n",
       "\n",
       "    <div>\n",
       "        <style>\n",
       "            /* Turns off some styling */\n",
       "            progress {\n",
       "                /* gets rid of default border in Firefox and Opera. */\n",
       "                border: none;\n",
       "                /* Needs to be in here for Safari polyfill so background images work as expected. */\n",
       "                background-size: auto;\n",
       "            }\n",
       "            .progress-bar-interrupted, .progress-bar-interrupted::-webkit-progress-bar {\n",
       "                background: #F44336;\n",
       "            }\n",
       "        </style>\n",
       "      <progress value='24' class='' max='24', style='width:300px; height:20px; vertical-align: middle;'></progress>\n",
       "      100.00% [24/24 00:02<00:00]\n",
       "    </div>\n",
       "    "
      ],
      "text/plain": [
       "<IPython.core.display.HTML object>"
      ]
     },
     "metadata": {},
     "output_type": "display_data"
    },
    {
     "name": "stdout",
     "output_type": "stream",
     "text": [
      "Better model found at epoch 0 with accuracy value: 0.9925833344459534.\n",
      "Better model found at epoch 1 with accuracy value: 0.9926666617393494.\n",
      "Epoch 6: early stopping\n"
     ]
    }
   ],
   "source": [
    "learn.unfreeze()\n",
    "best_model = \"mnist_resnet34\"\n",
    "learn.fit_one_cycle(20, slice(1E-5, 1E-3), \n",
    "                    callbacks=[SaveModelCallback(learn, name=best_model, monitor=\"accuracy\", mode=\"max\"),\n",
    "                              EarlyStoppingCallback(learn, monitor=\"accuracy\", min_delta=0.001, patience=5)])"
   ]
  },
  {
   "cell_type": "code",
   "execution_count": 45,
   "metadata": {},
   "outputs": [],
   "source": [
    "data_test_mnist = (\n",
    "    ImageList.from_csv(path=base_path, csv_name=\"source_mnist_test.csv\")\n",
    "    .split_none()\n",
    "    .label_from_df()\n",
    "    .transform(size=img_size)\n",
    "    .databunch(bs=batch_size)\n",
    "    .normalize(imagenet_stats)\n",
    ")"
   ]
  },
  {
   "cell_type": "code",
   "execution_count": 46,
   "metadata": {},
   "outputs": [],
   "source": [
    "learn.data = data_test_mnist"
   ]
  },
  {
   "cell_type": "code",
   "execution_count": 47,
   "metadata": {},
   "outputs": [
    {
     "data": {
      "text/html": [],
      "text/plain": [
       "<IPython.core.display.HTML object>"
      ]
     },
     "metadata": {},
     "output_type": "display_data"
    }
   ],
   "source": [
    "interp = ClassificationInterpretation.from_learner(learn, ds_type=DatasetType.Train)"
   ]
  },
  {
   "cell_type": "code",
   "execution_count": 48,
   "metadata": {},
   "outputs": [
    {
     "data": {
      "image/png": "[encoded data removed]",
      "text/plain": [
       "<Figure size 432x288 with 1 Axes>"
      ]
     },
     "metadata": {
      "needs_background": "light"
     },
     "output_type": "display_data"
    }
   ],
   "source": [
    "interp.plot_confusion_matrix()"
   ]
  },
  {
   "cell_type": "code",
   "execution_count": 49,
   "metadata": {},
   "outputs": [
    {
     "data": {
      "text/plain": [
       "0.9921875"
      ]
     },
     "execution_count": 49,
     "metadata": {},
     "output_type": "execute_result"
    }
   ],
   "source": [
    "conf_mat = interp.confusion_matrix()\n",
    "acc = np.sum(np.diag(conf_mat))/np.sum(conf_mat)\n",
    "acc"
   ]
  },
  {
   "cell_type": "code",
   "execution_count": 50,
   "metadata": {},
   "outputs": [],
   "source": [
    "data_test_mnist_m = (\n",
    "    ImageList.from_csv(path=base_path, csv_name=\"target_mnist_test.csv\")\n",
    "    .split_none()\n",
    "    .label_from_df()\n",
    "    .transform(size=img_size)\n",
    "    .databunch(bs=batch_size)\n",
    "    .normalize(imagenet_stats)\n",
    ")"
   ]
  },
  {
   "cell_type": "code",
   "execution_count": 51,
   "metadata": {},
   "outputs": [],
   "source": [
    "learn.data = data_test_mnist_m"
   ]
  },
  {
   "cell_type": "code",
   "execution_count": 52,
   "metadata": {},
   "outputs": [
    {
     "data": {
      "text/html": [],
      "text/plain": [
       "<IPython.core.display.HTML object>"
      ]
     },
     "metadata": {},
     "output_type": "display_data"
    }
   ],
   "source": [
    "interp = ClassificationInterpretation.from_learner(learn, ds_type=DatasetType.Train)"
   ]
  },
  {
   "cell_type": "code",
   "execution_count": 53,
   "metadata": {},
   "outputs": [
    {
     "data": {
      "image/png": "[encoded data removed]",
      "text/plain": [
       "<Figure size 432x288 with 1 Axes>"
      ]
     },
     "metadata": {
      "needs_background": "light"
     },
     "output_type": "display_data"
    }
   ],
   "source": [
    "interp.plot_confusion_matrix()"
   ]
  },
  {
   "cell_type": "code",
   "execution_count": 54,
   "metadata": {},
   "outputs": [
    {
     "data": {
      "text/plain": [
       "0.25505514705882354"
      ]
     },
     "execution_count": 54,
     "metadata": {},
     "output_type": "execute_result"
    }
   ],
   "source": [
    "conf_mat = interp.confusion_matrix()\n",
    "acc = np.sum(np.diag(conf_mat))/np.sum(conf_mat)\n",
    "acc"
   ]
  },
  {
   "cell_type": "markdown",
   "metadata": {},
   "source": [
    "### Training on MNIST-M, Inferencing on MNIST-M"
   ]
  },
  {
   "cell_type": "code",
   "execution_count": 55,
   "metadata": {},
   "outputs": [],
   "source": [
    "data = (\n",
    "    ImageList.from_csv(path=base_path, csv_name=\"target_mnist_train.csv\")\n",
    "    .split_by_rand_pct(0.2)\n",
    "    .label_from_df()\n",
    "    .transform(size=img_size)\n",
    "    .databunch(bs=batch_size)\n",
    "    .normalize(imagenet_stats)\n",
    ")"
   ]
  },
  {
   "cell_type": "code",
   "execution_count": 56,
   "metadata": {},
   "outputs": [],
   "source": [
    "learn = cnn_learner(data, models.resnet34, pretrained=True, metrics=accuracy)"
   ]
  },
  {
   "cell_type": "code",
   "execution_count": 57,
   "metadata": {},
   "outputs": [
    {
     "data": {
      "text/html": [
       "<table border=\"1\" class=\"dataframe\">\n",
       "  <thead>\n",
       "    <tr style=\"text-align: left;\">\n",
       "      <th>epoch</th>\n",
       "      <th>train_loss</th>\n",
       "      <th>valid_loss</th>\n",
       "      <th>accuracy</th>\n",
       "      <th>time</th>\n",
       "    </tr>\n",
       "  </thead>\n",
       "  <tbody>\n",
       "    <tr>\n",
       "      <td>0</td>\n",
       "      <td>0.954437</td>\n",
       "      <td>1.016632</td>\n",
       "      <td>0.755254</td>\n",
       "      <td>00:10</td>\n",
       "    </tr>\n",
       "    <tr>\n",
       "      <td>1</td>\n",
       "      <td>0.452798</td>\n",
       "      <td>0.509846</td>\n",
       "      <td>0.841356</td>\n",
       "      <td>00:08</td>\n",
       "    </tr>\n",
       "    <tr>\n",
       "      <td>2</td>\n",
       "      <td>0.311436</td>\n",
       "      <td>0.359692</td>\n",
       "      <td>0.885000</td>\n",
       "      <td>00:09</td>\n",
       "    </tr>\n",
       "    <tr>\n",
       "      <td>3</td>\n",
       "      <td>0.232098</td>\n",
       "      <td>0.215975</td>\n",
       "      <td>0.930678</td>\n",
       "      <td>00:08</td>\n",
       "    </tr>\n",
       "    <tr>\n",
       "      <td>4</td>\n",
       "      <td>0.168180</td>\n",
       "      <td>0.178532</td>\n",
       "      <td>0.940170</td>\n",
       "      <td>00:08</td>\n",
       "    </tr>\n",
       "  </tbody>\n",
       "</table>"
      ],
      "text/plain": [
       "<IPython.core.display.HTML object>"
      ]
     },
     "metadata": {},
     "output_type": "display_data"
    }
   ],
   "source": [
    "learn.fit_one_cycle(5, 5E-2)"
   ]
  },
  {
   "cell_type": "code",
   "execution_count": 58,
   "metadata": {},
   "outputs": [
    {
     "data": {
      "text/html": [
       "\n",
       "    <div>\n",
       "        <style>\n",
       "            /* Turns off some styling */\n",
       "            progress {\n",
       "                /* gets rid of default border in Firefox and Opera. */\n",
       "                border: none;\n",
       "                /* Needs to be in here for Safari polyfill so background images work as expected. */\n",
       "                background-size: auto;\n",
       "            }\n",
       "            .progress-bar-interrupted, .progress-bar-interrupted::-webkit-progress-bar {\n",
       "                background: #F44336;\n",
       "            }\n",
       "        </style>\n",
       "      <progress value='17' class='' max='20', style='width:300px; height:20px; vertical-align: middle;'></progress>\n",
       "      85.00% [17/20 03:12<00:34]\n",
       "    </div>\n",
       "    \n",
       "<table border=\"1\" class=\"dataframe\">\n",
       "  <thead>\n",
       "    <tr style=\"text-align: left;\">\n",
       "      <th>epoch</th>\n",
       "      <th>train_loss</th>\n",
       "      <th>valid_loss</th>\n",
       "      <th>accuracy</th>\n",
       "      <th>time</th>\n",
       "    </tr>\n",
       "  </thead>\n",
       "  <tbody>\n",
       "    <tr>\n",
       "      <td>0</td>\n",
       "      <td>0.146835</td>\n",
       "      <td>0.178005</td>\n",
       "      <td>0.940339</td>\n",
       "      <td>00:11</td>\n",
       "    </tr>\n",
       "    <tr>\n",
       "      <td>1</td>\n",
       "      <td>0.140776</td>\n",
       "      <td>0.176406</td>\n",
       "      <td>0.942119</td>\n",
       "      <td>00:11</td>\n",
       "    </tr>\n",
       "    <tr>\n",
       "      <td>2</td>\n",
       "      <td>0.134210</td>\n",
       "      <td>0.182031</td>\n",
       "      <td>0.941864</td>\n",
       "      <td>00:11</td>\n",
       "    </tr>\n",
       "    <tr>\n",
       "      <td>3</td>\n",
       "      <td>0.131291</td>\n",
       "      <td>0.178678</td>\n",
       "      <td>0.943390</td>\n",
       "      <td>00:11</td>\n",
       "    </tr>\n",
       "    <tr>\n",
       "      <td>4</td>\n",
       "      <td>0.118017</td>\n",
       "      <td>0.181135</td>\n",
       "      <td>0.942966</td>\n",
       "      <td>00:11</td>\n",
       "    </tr>\n",
       "    <tr>\n",
       "      <td>5</td>\n",
       "      <td>0.105084</td>\n",
       "      <td>0.172613</td>\n",
       "      <td>0.945085</td>\n",
       "      <td>00:11</td>\n",
       "    </tr>\n",
       "    <tr>\n",
       "      <td>6</td>\n",
       "      <td>0.090217</td>\n",
       "      <td>0.182138</td>\n",
       "      <td>0.946102</td>\n",
       "      <td>00:11</td>\n",
       "    </tr>\n",
       "    <tr>\n",
       "      <td>7</td>\n",
       "      <td>0.075114</td>\n",
       "      <td>0.207796</td>\n",
       "      <td>0.940678</td>\n",
       "      <td>00:11</td>\n",
       "    </tr>\n",
       "    <tr>\n",
       "      <td>8</td>\n",
       "      <td>0.061094</td>\n",
       "      <td>0.197686</td>\n",
       "      <td>0.946102</td>\n",
       "      <td>00:11</td>\n",
       "    </tr>\n",
       "    <tr>\n",
       "      <td>9</td>\n",
       "      <td>0.047571</td>\n",
       "      <td>0.194360</td>\n",
       "      <td>0.948136</td>\n",
       "      <td>00:11</td>\n",
       "    </tr>\n",
       "    <tr>\n",
       "      <td>10</td>\n",
       "      <td>0.033927</td>\n",
       "      <td>0.214321</td>\n",
       "      <td>0.946356</td>\n",
       "      <td>00:11</td>\n",
       "    </tr>\n",
       "    <tr>\n",
       "      <td>11</td>\n",
       "      <td>0.025083</td>\n",
       "      <td>0.222294</td>\n",
       "      <td>0.950593</td>\n",
       "      <td>00:11</td>\n",
       "    </tr>\n",
       "    <tr>\n",
       "      <td>12</td>\n",
       "      <td>0.016978</td>\n",
       "      <td>0.229336</td>\n",
       "      <td>0.948898</td>\n",
       "      <td>00:11</td>\n",
       "    </tr>\n",
       "    <tr>\n",
       "      <td>13</td>\n",
       "      <td>0.010971</td>\n",
       "      <td>0.234060</td>\n",
       "      <td>0.948136</td>\n",
       "      <td>00:11</td>\n",
       "    </tr>\n",
       "    <tr>\n",
       "      <td>14</td>\n",
       "      <td>0.006870</td>\n",
       "      <td>0.241747</td>\n",
       "      <td>0.950000</td>\n",
       "      <td>00:11</td>\n",
       "    </tr>\n",
       "    <tr>\n",
       "      <td>15</td>\n",
       "      <td>0.003967</td>\n",
       "      <td>0.249797</td>\n",
       "      <td>0.950170</td>\n",
       "      <td>00:11</td>\n",
       "    </tr>\n",
       "    <tr>\n",
       "      <td>16</td>\n",
       "      <td>0.003015</td>\n",
       "      <td>0.255230</td>\n",
       "      <td>0.950085</td>\n",
       "      <td>00:10</td>\n",
       "    </tr>\n",
       "  </tbody>\n",
       "</table><p>\n",
       "\n",
       "    <div>\n",
       "        <style>\n",
       "            /* Turns off some styling */\n",
       "            progress {\n",
       "                /* gets rid of default border in Firefox and Opera. */\n",
       "                border: none;\n",
       "                /* Needs to be in here for Safari polyfill so background images work as expected. */\n",
       "                background-size: auto;\n",
       "            }\n",
       "            .progress-bar-interrupted, .progress-bar-interrupted::-webkit-progress-bar {\n",
       "                background: #F44336;\n",
       "            }\n",
       "        </style>\n",
       "      <progress value='24' class='' max='24', style='width:300px; height:20px; vertical-align: middle;'></progress>\n",
       "      100.00% [24/24 00:01<00:00]\n",
       "    </div>\n",
       "    "
      ],
      "text/plain": [
       "<IPython.core.display.HTML object>"
      ]
     },
     "metadata": {},
     "output_type": "display_data"
    },
    {
     "name": "stdout",
     "output_type": "stream",
     "text": [
      "Better model found at epoch 0 with accuracy value: 0.9403389692306519.\n",
      "Better model found at epoch 1 with accuracy value: 0.9421186447143555.\n",
      "Better model found at epoch 3 with accuracy value: 0.9433898329734802.\n",
      "Better model found at epoch 5 with accuracy value: 0.9450847506523132.\n",
      "Better model found at epoch 6 with accuracy value: 0.9461016654968262.\n",
      "Better model found at epoch 9 with accuracy value: 0.9481356143951416.\n",
      "Better model found at epoch 11 with accuracy value: 0.9505932331085205.\n",
      "Better model found at epoch 17 with accuracy value: 0.9512711763381958.\n",
      "Epoch 17: early stopping\n"
     ]
    }
   ],
   "source": [
    "learn.unfreeze()\n",
    "best_model = \"mnist_m_resnet34\"\n",
    "learn.fit_one_cycle(20, slice(1E-5, 1E-3), \n",
    "                    callbacks=[SaveModelCallback(learn, name=best_model, monitor=\"accuracy\", mode=\"max\"),\n",
    "                              EarlyStoppingCallback(learn, monitor=\"accuracy\", min_delta=0.001, patience=5)])"
   ]
  },
  {
   "cell_type": "code",
   "execution_count": 59,
   "metadata": {},
   "outputs": [],
   "source": [
    "data_test_mnist_m = (\n",
    "    ImageList.from_csv(path=base_path, csv_name=\"target_mnist_test.csv\")\n",
    "    .split_none()\n",
    "    .label_from_df()\n",
    "    .transform(size=img_size)\n",
    "    .databunch(bs=batch_size)\n",
    "    .normalize(imagenet_stats)\n",
    ")"
   ]
  },
  {
   "cell_type": "code",
   "execution_count": 60,
   "metadata": {},
   "outputs": [],
   "source": [
    "learn.data = data_test_mnist_m"
   ]
  },
  {
   "cell_type": "code",
   "execution_count": 61,
   "metadata": {},
   "outputs": [
    {
     "data": {
      "text/html": [],
      "text/plain": [
       "<IPython.core.display.HTML object>"
      ]
     },
     "metadata": {},
     "output_type": "display_data"
    }
   ],
   "source": [
    "interp = ClassificationInterpretation.from_learner(learn, ds_type=DatasetType.Train)"
   ]
  },
  {
   "cell_type": "code",
   "execution_count": 62,
   "metadata": {},
   "outputs": [
    {
     "data": {
      "image/png": "[encoded data removed]",
      "text/plain": [
       "<Figure size 432x288 with 1 Axes>"
      ]
     },
     "metadata": {
      "needs_background": "light"
     },
     "output_type": "display_data"
    }
   ],
   "source": [
    "interp.plot_confusion_matrix()"
   ]
  },
  {
   "cell_type": "code",
   "execution_count": 63,
   "metadata": {},
   "outputs": [
    {
     "data": {
      "text/plain": [
       "0.9518612132352942"
      ]
     },
     "execution_count": 63,
     "metadata": {},
     "output_type": "execute_result"
    }
   ],
   "source": [
    "conf_mat = interp.confusion_matrix()\n",
    "acc = np.sum(np.diag(conf_mat))/np.sum(conf_mat)\n",
    "acc"
   ]
  }
 ],
 "metadata": {
  "kernelspec": {
   "display_name": "Python 3",
   "language": "python",
   "name": "python3"
  },
  "language_info": {
   "codemirror_mode": {
    "name": "ipython",
    "version": 3
   },
   "file_extension": ".py",
   "mimetype": "text/x-python",
   "name": "python",
   "nbconvert_exporter": "python",
   "pygments_lexer": "ipython3",
   "version": "3.7.3"
  }
 },
 "nbformat": 4,
 "nbformat_minor": 2
}
